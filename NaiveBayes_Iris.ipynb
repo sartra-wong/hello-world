{
  "nbformat": 4,
  "nbformat_minor": 0,
  "metadata": {
    "colab": {
      "name": "NaiveBayes_Iris.ipynb",
      "provenance": [],
      "collapsed_sections": [],
      "authorship_tag": "ABX9TyOUW8Iyrecih3dVzJg1f5XM",
      "include_colab_link": true
    },
    "kernelspec": {
      "name": "python3",
      "display_name": "Python 3"
    },
    "accelerator": "GPU"
  },
  "cells": [
    {
      "cell_type": "markdown",
      "metadata": {
        "id": "view-in-github",
        "colab_type": "text"
      },
      "source": [
        "<a href=\"https://colab.research.google.com/github/sartra-wong/hello-world/blob/main/NaiveBayes_Iris.ipynb\" target=\"_parent\"><img src=\"https://colab.research.google.com/assets/colab-badge.svg\" alt=\"Open In Colab\"/></a>"
      ]
    },
    {
      "cell_type": "code",
      "metadata": {
        "colab": {
          "base_uri": "https://localhost:8080/"
        },
        "id": "b1uXAPTiw-s4",
        "outputId": "450dd2ef-4909-403f-c5ec-0fb3a6aedafa"
      },
      "source": [
        "# Naive Bayes (NB)\r\n",
        "\r\n",
        "# Importing the libraries\r\n",
        "from google.colab import drive\r\n",
        "drive.mount('/content/drive')\r\n",
        "\r\n",
        "import numpy as np\r\n",
        "import matplotlib.pyplot as plt\r\n",
        "import pandas as pd\r\n",
        "\r\n",
        "# Importing the dataset\r\n",
        "copied_path = '/content/drive/MyDrive/Colab Notebooks/iris.csv'  \r\n",
        "dataset = pd.read_csv(copied_path)\r\n",
        "\r\n",
        "# เทคนิคใน Panda\r\n",
        "# https://blog.datath.com/cheatsheet-pandas/\r\n",
        "\r\n",
        "X = dataset.iloc[:, [0,1,2,3]].values\r\n",
        "y = dataset.iloc[:, 4].values\r\n",
        "\r\n",
        "# Splitting the dataset into the Training set and Test set\r\n",
        "from sklearn.model_selection import train_test_split\r\n",
        "X_train, X_test, y_train, y_test = train_test_split(X, y, test_size = 0.25, random_state = 0)\r\n",
        "\r\n",
        "# Feature Scaling\r\n",
        "from sklearn.preprocessing import StandardScaler\r\n",
        "sc = StandardScaler()\r\n",
        "X_train = sc.fit_transform(X_train)\r\n",
        "X_test = sc.transform(X_test)\r\n",
        "\r\n",
        "# Fitting Naive Bayes to the Training set\r\n",
        "from sklearn.naive_bayes import GaussianNB\r\n",
        "classifier = GaussianNB()\r\n",
        "classifier.fit(X_train, y_train)\r\n",
        "\r\n",
        "# Predicting the Test set results\r\n",
        "y_pred = classifier.predict(X_test)\r\n",
        "\r\n",
        "# Making the Confusion Matrix\r\n",
        "from sklearn.metrics import confusion_matrix\r\n",
        "cm = confusion_matrix(y_test, y_pred)\r\n",
        "print(cm)\r\n"
      ],
      "execution_count": null,
      "outputs": [
        {
          "output_type": "stream",
          "text": [
            "Drive already mounted at /content/drive; to attempt to forcibly remount, call drive.mount(\"/content/drive\", force_remount=True).\n",
            "[[13  0  0]\n",
            " [ 0 16  0]\n",
            " [ 0  0  9]]\n"
          ],
          "name": "stdout"
        }
      ]
    }
  ]
}