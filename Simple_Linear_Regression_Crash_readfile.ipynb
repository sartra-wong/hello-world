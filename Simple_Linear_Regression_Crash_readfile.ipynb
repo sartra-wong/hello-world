{
  "nbformat": 4,
  "nbformat_minor": 0,
  "metadata": {
    "colab": {
      "name": "Simple Linear Regression Crash readfile.ipynb",
      "provenance": [],
      "authorship_tag": "ABX9TyMuAMXZnj+ytjy5hun4seyu",
      "include_colab_link": true
    },
    "kernelspec": {
      "name": "python3",
      "display_name": "Python 3"
    },
    "accelerator": "GPU"
  },
  "cells": [
    {
      "cell_type": "markdown",
      "metadata": {
        "id": "view-in-github",
        "colab_type": "text"
      },
      "source": [
        "<a href=\"https://colab.research.google.com/github/sartra-wong/hello-world/blob/main/Simple_Linear_Regression_Crash_readfile.ipynb\" target=\"_parent\"><img src=\"https://colab.research.google.com/assets/colab-badge.svg\" alt=\"Open In Colab\"/></a>"
      ]
    },
    {
      "cell_type": "code",
      "metadata": {
        "id": "-dZluG5HamNG",
        "colab": {
          "base_uri": "https://localhost:8080/"
        },
        "outputId": "31a22b28-abb7-4267-d809-ff07ee8ab16f"
      },
      "source": [
        "from sklearn.datasets import make_regression\n",
        "import matplotlib.pyplot as plt\n",
        "import numpy as np\n",
        "import pandas as pd\n",
        "\n",
        "from google.colab import drive\n",
        "drive.mount('/content/drive')\n",
        "\n",
        "# Importing the dataset\n",
        "copied_path = '/content/drive/MyDrive/Colab Notebooks/Salary_Data.csv' #remove ‘content/’ from path then use \n",
        "dataset = pd.read_csv(copied_path)\n",
        "X = dataset.iloc[:, :-1].values\n",
        "y = dataset.iloc[:, 1].values\n"
      ],
      "execution_count": null,
      "outputs": [
        {
          "output_type": "stream",
          "text": [
            "Mounted at /content/drive\n"
          ],
          "name": "stdout"
        }
      ]
    },
    {
      "cell_type": "code",
      "metadata": {
        "colab": {
          "base_uri": "https://localhost:8080/"
        },
        "id": "1Xc03NsRazTP",
        "outputId": "187238b8-cf4f-441a-abc6-2121a1ed7cfc"
      },
      "source": [
        "print(X.shape)\n",
        "print(y.shape)"
      ],
      "execution_count": null,
      "outputs": [
        {
          "output_type": "stream",
          "text": [
            "(30, 1)\n",
            "(30,)\n"
          ],
          "name": "stdout"
        }
      ]
    },
    {
      "cell_type": "code",
      "metadata": {
        "id": "f0uJ_1ZMa440"
      },
      "source": [
        "def define_parameters(n_weights):\n",
        "    a = np.random.randn( n_weights, 1)\n",
        "    b = np.random.randn()\n",
        "    return a, b"
      ],
      "execution_count": null,
      "outputs": []
    },
    {
      "cell_type": "code",
      "metadata": {
        "id": "JIgI_niWa-ot"
      },
      "source": [
        "def predictions(a, b , X):\n",
        "    z = np.dot(X,a) + b\n",
        "    return z"
      ],
      "execution_count": null,
      "outputs": []
    },
    {
      "cell_type": "code",
      "metadata": {
        "id": "3lHTKraubEhF"
      },
      "source": [
        "def find_cost(z,y):\n",
        "    m = y.shape[0]\n",
        "    total_cost = (1/m)* np.sum(np.square(z - y))\n",
        "    return total_cost"
      ],
      "execution_count": null,
      "outputs": []
    },
    {
      "cell_type": "code",
      "metadata": {
        "id": "CAbKNQ8EbLEB"
      },
      "source": [
        "def find_derivatives(X, y, z):\n",
        "    m = y.shape[0]\n",
        "    dz = (1/m)*(z-y)\n",
        "    da = np.dot(X.T, dz)\n",
        "    db = np.sum(dz)\n",
        "    \n",
        "    return da, db"
      ],
      "execution_count": null,
      "outputs": []
    },
    {
      "cell_type": "code",
      "metadata": {
        "id": "I-I7tSBJbQqP"
      },
      "source": [
        "def update_parameters(a, b, da, db, lr):\n",
        "    a = a - lr * da\n",
        "    b = b - lr * db\n",
        "    \n",
        "    return a, b"
      ],
      "execution_count": null,
      "outputs": []
    },
    {
      "cell_type": "code",
      "metadata": {
        "id": "dQI2w2SKbXiE"
      },
      "source": [
        "def linear_regression1(X, y, lr, epochs):\n",
        "    error_list = []\n",
        "    lenw = X.shape[1]\n",
        "    a,b = define_parameters(lenw)\n",
        "    \n",
        "    for i in range(epochs):\n",
        "        z = predictions(a, b, X)\n",
        "        cost = find_cost(z,y)\n",
        "        error_list.append(cost)\n",
        "        da, db = find_derivatives(X, y, z)\n",
        "        a, b = update_parameters(a, b, da, db, lr)\n",
        "        if i % 50 == 0 :\n",
        "            print(cost)\n",
        "            \n",
        "    return a, b, error_list"
      ],
      "execution_count": null,
      "outputs": []
    },
    {
      "cell_type": "code",
      "metadata": {
        "colab": {
          "base_uri": "https://localhost:8080/",
          "height": 415
        },
        "id": "HAM3ZiUDbdIJ",
        "outputId": "fa0afcbe-a81e-41c6-d0de-69db77e9a7eb"
      },
      "source": [
        "lr = 0.01\n",
        "epochs = 1000\n",
        "a, b, error_list = linear_regression1(X,y,lr,epochs)\n",
        "\n",
        "import IPython.display as ipd\n",
        "# Auto Play Audio file\n",
        "ipd.Audio(url=\"http://www.w3schools.com/html/horse.ogg\",\n",
        "                              autoplay=True)\n"
      ],
      "execution_count": null,
      "outputs": [
        {
          "output_type": "stream",
          "text": [
            "195115420510.40878\n",
            "4972224817.825176\n",
            "4716785799.536102\n",
            "4711201875.293426\n",
            "4711079810.1126375\n",
            "4711077141.754738\n",
            "4711077083.4241495\n",
            "4711077082.149036\n",
            "4711077082.121161\n",
            "4711077082.120552\n",
            "4711077082.12054\n",
            "4711077082.12054\n",
            "4711077082.120539\n",
            "4711077082.120539\n",
            "4711077082.12054\n",
            "4711077082.12054\n",
            "4711077082.12054\n",
            "4711077082.120539\n",
            "4711077082.12054\n",
            "4711077082.12054\n"
          ],
          "name": "stdout"
        },
        {
          "output_type": "execute_result",
          "data": {
            "text/html": [
              "\n",
              "                <audio controls=\"controls\" autoplay=\"autoplay\">\n",
              "                    <source src=\"http://www.w3schools.com/html/horse.ogg\" type=\"audio/ogg\" />\n",
              "                    Your browser does not support the audio element.\n",
              "                </audio>\n",
              "              "
            ],
            "text/plain": [
              "<IPython.lib.display.Audio object>"
            ]
          },
          "metadata": {
            "tags": []
          },
          "execution_count": 9
        }
      ]
    },
    {
      "cell_type": "code",
      "metadata": {
        "colab": {
          "base_uri": "https://localhost:8080/",
          "height": 293
        },
        "id": "lhJRL9D5bm8P",
        "outputId": "0d401af0-99d9-438c-b095-1de2d5952e63"
      },
      "source": [
        "plt.plot(error_list)"
      ],
      "execution_count": null,
      "outputs": [
        {
          "output_type": "execute_result",
          "data": {
            "text/plain": [
              "[<matplotlib.lines.Line2D at 0x7eff42e3a310>]"
            ]
          },
          "metadata": {
            "tags": []
          },
          "execution_count": 10
        },
        {
          "output_type": "display_data",
          "data": {
            "image/png": "[encoded data removed]",
            "text/plain": [
              "<Figure size 432x288 with 1 Axes>"
            ]
          },
          "metadata": {
            "tags": [],
            "needs_background": "light"
          }
        }
      ]
    },
    {
      "cell_type": "code",
      "metadata": {
        "colab": {
          "base_uri": "https://localhost:8080/",
          "height": 312
        },
        "id": "Q2UzZZq_mLY1",
        "outputId": "50a3a584-3ff7-4c04-f67b-a166baf0c3de"
      },
      "source": [
        "plt.scatter(X,y)\n",
        "plt.plot(X,y)\n",
        "plt.title('Salary vs Experience')\n",
        "plt.xlabel('Years of Experience')\n",
        "plt.ylabel('Salary')"
      ],
      "execution_count": null,
      "outputs": [
        {
          "output_type": "execute_result",
          "data": {
            "text/plain": [
              "Text(0, 0.5, 'Salary')"
            ]
          },
          "metadata": {
            "tags": []
          },
          "execution_count": 11
        },
        {
          "output_type": "display_data",
          "data": {
            "image/png": "[encoded data removed]",
            "text/plain": [
              "<Figure size 432x288 with 1 Axes>"
            ]
          },
          "metadata": {
            "tags": [],
            "needs_background": "light"
          }
        }
      ]
    }
  ]
}